{
 "cells": [
  {
   "cell_type": "code",
   "execution_count": 2,
   "id": "4997d58b",
   "metadata": {},
   "outputs": [
    {
     "name": "stdout",
     "output_type": "stream",
     "text": [
      "(10, 2) (10,)\n",
      "Counter({1: 5, 0: 5})\n",
      "[-10.17014071  -4.83120697] 1\n",
      "[-11.09833168  -2.80862484] 1\n",
      "[-9.95549876 -3.37053333] 1\n",
      "[-8.86394306 -5.05323981] 1\n",
      "[0.08525186 3.64528297] 0\n"
     ]
    },
    {
     "data": {
      "text/plain": [
       "<matplotlib.legend.Legend at 0x1c5d02371c0>"
      ]
     },
     "execution_count": 2,
     "metadata": {},
     "output_type": "execute_result"
    },
    {
     "data": {
      "image/png": "[encoded data removed]",
      "text/plain": [
       "<Figure size 432x288 with 1 Axes>"
      ]
     },
     "metadata": {
      "needs_background": "light"
     },
     "output_type": "display_data"
    }
   ],
   "source": [
    "from numpy import where\n",
    "from collections import Counter\n",
    "from sklearn.datasets import make_blobs\n",
    "from matplotlib import pyplot\n",
    "X,y=make_blobs(n_samples=10,centers=2,random_state=1)\n",
    "print(X.shape,y.shape)\n",
    "counter=Counter(y)\n",
    "print(counter)\n",
    "for i in range(5):\n",
    "    print(X[i],y[i])\n",
    "for label,_ in counter.items():\n",
    "    row_ix=where(y==label)[0]\n",
    "    pyplot.scatter(X[row_ix,0],X[row_ix,1],label=str(label))\n",
    "pyplot.legend()\n"
   ]
  },
  {
   "cell_type": "code",
   "execution_count": null,
   "id": "255161de",
   "metadata": {},
   "outputs": [],
   "source": []
  }
 ],
 "metadata": {
  "kernelspec": {
   "display_name": "Python 3 (ipykernel)",
   "language": "python",
   "name": "python3"
  },
  "language_info": {
   "codemirror_mode": {
    "name": "ipython",
    "version": 3
   },
   "file_extension": ".py",
   "mimetype": "text/x-python",
   "name": "python",
   "nbconvert_exporter": "python",
   "pygments_lexer": "ipython3",
   "version": "3.9.7"
  }
 },
 "nbformat": 4,
 "nbformat_minor": 5
}
